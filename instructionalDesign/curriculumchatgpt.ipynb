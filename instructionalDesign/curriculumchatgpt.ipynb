{
  "nbformat": 4,
  "nbformat_minor": 0,
  "metadata": {
    "colab": {
      "provenance": [],
      "gpuType": "T4",
      "include_colab_link": true
    },
    "kernelspec": {
      "name": "python3",
      "display_name": "Python 3"
    },
    "language_info": {
      "name": "python"
    },
    "accelerator": "GPU"
  },
  "cells": [
    {
      "cell_type": "markdown",
      "metadata": {
        "id": "view-in-github",
        "colab_type": "text"
      },
      "source": [
        "<a href=\"https://colab.research.google.com/github/thejellis/nasaspaceapps2024clt_PACE_ppj/blob/instructionalDesign/curriculumchatgpt.ipynb\" target=\"_parent\"><img src=\"https://colab.research.google.com/assets/colab-badge.svg\" alt=\"Open In Colab\"/></a>"
      ]
    },
    {
      "cell_type": "code",
      "source": [
        "# !pip install fitz\n",
        "# !pip install openai\n",
        "# !pip install pypdf\n",
        "# !pip install PyPDF2\n",
        "#!pip install pdfplumber\n",
        "#!pip install beautifulsoup4\n",
        "#!pip install openai==0.28\n",
        "#!pip install Pillow reportlab\n",
        "#!pip install reportlab\n",
        "#!pip install -Uq diffusers transformers fastcore"
      ],
      "metadata": {
        "id": "BJayR2NMAlMV"
      },
      "execution_count": null,
      "outputs": []
    },
    {
      "cell_type": "code",
      "source": [
        "import os\n",
        "import openai\n",
        "from bs4 import BeautifulSoup\n",
        "from pypdf import PdfReader\n",
        "import requests\n",
        "import PyPDF2\n",
        "import io\n",
        "import requests\n",
        "\n",
        "import pdfplumber\n",
        "\n",
        "openai.api_key = os.getenv(\"OPENAIAPIKEY\")"
      ],
      "metadata": {
        "id": "ykv6eN5A8nqZ"
      },
      "execution_count": null,
      "outputs": []
    },
    {
      "cell_type": "code",
      "source": [
        "def getinfo2(pdf_url, php_url):\n",
        "    \"\"\"\n",
        "    Extracts text from a PDF URL and a website (PHP-generated content) URL and combines them.\n",
        "\n",
        "    Args:\n",
        "        pdf_url: The URL to the PDF file.\n",
        "        php_url: The URL to the website containing PHP-generated content.\n",
        "\n",
        "    Returns:\n",
        "        A string containing the combined text from both sources.\n",
        "    \"\"\"\n",
        "\n",
        "    # Step 1: Extract text from the PDF\n",
        "    try:\n",
        "        response_pdf = requests.get(pdf_url)\n",
        "        pdf_file = 'temp.pdf'\n",
        "\n",
        "        # Save the PDF locally\n",
        "        with open(pdf_file, 'wb') as f:\n",
        "            f.write(response_pdf.content)\n",
        "\n",
        "        # Extract text from PDF\n",
        "        all_pdf_text = ''\n",
        "        with pdfplumber.open(pdf_file) as pdf:\n",
        "            for page in pdf.pages:\n",
        "                all_pdf_text += page.extract_text()\n",
        "\n",
        "    except Exception as e:\n",
        "        print(f\"Error extracting text from PDF: {e}\")\n",
        "        all_pdf_text = \"Error reading PDF content.\"\n",
        "\n",
        "    # Step 2: Extract text from the PHP-generated website\n",
        "    try:\n",
        "        response_php = requests.get(php_url)\n",
        "        soup = BeautifulSoup(response_php.content, 'html.parser')\n",
        "\n",
        "        # Extract all visible text from the website\n",
        "        all_php_text = soup.get_text(separator=' ', strip=True)\n",
        "\n",
        "    except Exception as e:\n",
        "        print(f\"Error extracting text from PHP-generated website: {e}\")\n",
        "        all_php_text = \"Error reading website content.\"\n",
        "\n",
        "    # Combine both texts\n",
        "    combined_text = all_pdf_text + \"\\n\\n\" + all_php_text\n",
        "    return combined_text\n",
        "\n",
        "# Example usage:\n",
        "pdf_url = \"https://pace.oceansciences.org/docs/earth_observer_jul_aug_2015.pdf\"\n",
        "php_url = \"https://example.com/some_php_page\"\n",
        "\n",
        "combined_text = getinfo(pdf_url, php_url)\n",
        "print(combined_text)\n"
      ],
      "metadata": {
        "id": "0NcVFdh1LhNt"
      },
      "execution_count": null,
      "outputs": []
    },
    {
      "cell_type": "code",
      "source": [
        "\n",
        "def getinfo(mypdf):\n",
        "\n",
        "# Step 1: Download the PDF from the URL\n",
        "  pdf_url = mypdf\n",
        "  response = requests.get(pdf_url)\n",
        "  pdf_file = 'temp.pdf'\n",
        "\n",
        "  # Save the PDF locally\n",
        "  with open(pdf_file, 'wb') as f:\n",
        "      f.write(response.content)\n",
        "\n",
        "  # Step 2: Extract text using pdfplumber\n",
        "  with pdfplumber.open(pdf_file) as pdf:\n",
        "      all_text = ''\n",
        "      for page in pdf.pages:\n",
        "          all_text += page.extract_text()\n",
        "\n",
        "  return all_text\n",
        "  # Now `all_text` contains the text from the PDF"
      ],
      "metadata": {
        "id": "1Xe-GJtkAYBO"
      },
      "execution_count": null,
      "outputs": []
    },
    {
      "cell_type": "code",
      "execution_count": null,
      "metadata": {
        "id": "ynGY4GGX3lMT"
      },
      "outputs": [],
      "source": [
        "\n",
        "def chatbot(mypdf, prompt):\n",
        "  \"\"\"\n",
        "  Generates a response to a given prompt using OpenAI's ChatGPT API.\n",
        "\n",
        "  Args:\n",
        "      prompt: The user's prompt to the chatbot.\n",
        "\n",
        "  Returns:\n",
        "      The chatbot's response to the prompt.\n",
        "  \"\"\"\n",
        "  pdfText = getinfo(mypdf)\n",
        "  #pdfText = mypdf\n",
        "  prompt = prompt + pdfText\n",
        "\n",
        "  try:\n",
        "        # Correct API method call\n",
        "        completion =  openai.ChatCompletion.create( model=\"gpt-4\",  # Change to the appropriate model if needed\n",
        "            messages=[\n",
        "                {\"role\": \"system\", \"content\": \"You are a helpful assistant.\"},\n",
        "                {\"role\": \"user\", \"content\": prompt}\n",
        "            ]\n",
        "        )\n",
        "        return completion.choices[0].message['content'].strip()\n",
        "  except Exception as e:\n",
        "      print(f\"Error communicating with OpenAI API: {e}\")\n",
        "      return \"An error occurred. Please try again later.\"\n",
        "\n",
        "#https://earthobservatory.nasa.gov/features/Aerosols\n",
        "#https://pace.oceansciences.org/docs/ocean_color_brochure.pdf\n",
        "#https://pace.oceansciences.org/docs/earth_observer_jul_aug_2015.pdf                               #\n",
        "#https://earthobservatory.nasa.gov/features/Aerosols/page4.php\n",
        "# https://earthobservatory.nasa.gov/features/Phytoplankton\n",
        "# https://earthobservatory.nasa.gov/features/Aerosols\n",
        "#https://earthobservatory.nasa.gov/features/Aerosols/page4.php\n",
        "#https://earthobservatory.nasa.gov/features/Aerosols/page4.php"
      ]
    },
    {
      "cell_type": "code",
      "source": [
        "prompt = \"Create 3 weekly module curriculum with a data literacy optional module based on the following material: \"\n",
        "response = chatbot('https://pace.oceansciences.org/docs/NASA_TM2024219027v12_Level1C.pdf', prompt)\n",
        "print(f\"Chatbot: {response}\")"
      ],
      "metadata": {
        "id": "kyvLrgTdIM5E"
      },
      "execution_count": null,
      "outputs": []
    },
    {
      "cell_type": "code",
      "source": [
        "prompt1 = f\"Create detailed lesson plans for the 3 weekly modules as a teacher guide from the following: {response} and : \"\n",
        "response1 = chatbot('https://pace.oceansciences.org/docs/NASA_TM2024219027v12_Level1C.pdf', prompt1)\n",
        "print(f\"Chatbot: {response1}\")"
      ],
      "metadata": {
        "id": "X3kvE3rfPNlr"
      },
      "execution_count": null,
      "outputs": []
    },
    {
      "cell_type": "code",
      "source": [],
      "metadata": {
        "id": "rs2neP9SAGO3"
      },
      "execution_count": null,
      "outputs": []
    },
    {
      "cell_type": "markdown",
      "source": [
        "**Image Generation with Prompts text**\n",
        "\n",
        "Concept is to take the lesson plans and curriculum provided from the above generated information along with the NGSS, which provides the global science standards, will provide an opportunity for the teachers or other facilitators to generate custom content including books, brochures, or even presentations built eventually through quarto and rendered in html, books, or pdf"
      ],
      "metadata": {
        "id": "gtnscCR7AHDB"
      }
    },
    {
      "cell_type": "code",
      "source": [
        "import logging\n",
        "from pathlib import Path\n",
        "\n",
        "import matplotlib.pyplot as plt\n",
        "import torch\n",
        "from diffusers import StableDiffusionPipeline\n",
        "from fastcore.all import concat\n",
        "from huggingface_hub import notebook_login\n",
        "from PIL import Image\n",
        "\n",
        "logging.disable(logging.WARNING)\n",
        "\n",
        "torch.manual_seed(1)\n",
        "if not (Path.home()/'.cache/huggingface'/'token').exists(): notebook_login()"
      ],
      "metadata": {
        "id": "uzCfneefEANm"
      },
      "execution_count": null,
      "outputs": []
    },
    {
      "cell_type": "code",
      "source": [
        "print(\"Chatbot: Hello! What topic do you need to build materials for? : \")\n",
        "prompts = []\n",
        "  while True:\n",
        "    topic = input(\"Chatbot: Hello! What topic do you need to build materials for? :\")\n",
        "    typeP = input(\"Which type do you need? (ie: presentation, document) : \")\n",
        "    format = input(\"What is the intended audience (age and/or roles)? : \")\n",
        "    length = input(\" How long should it be?: \")\n",
        "    location = input (\"what language should the responses be?\")\n",
        "    otherinfo = input(\"What other information should be considered\")\n",
        "    submission = f(\"Create a {length} {typeP} for {format} about the {topic} in {location} considering {otherinfo}.\")\n",
        "    prompts.append()\n",
        "    user_input = input('Do you want to submit another prompt? \"exit\", \"quit\", \"bye\"')\n",
        "    if user_input.lower() in [\"exit\", \"quit\", \"bye\"]:\n",
        "      print(\"Chatbot: Goodbye!\")\n",
        "      break\n",
        "    for prompt in prompts:\n",
        "\n",
        "      response = chatbot(prompt)\n",
        "      print(f\"Chatbot: {response}\")"
      ],
      "metadata": {
        "id": "hwlbB3kKAulw"
      },
      "execution_count": null,
      "outputs": []
    },
    {
      "cell_type": "code",
      "source": [
        "prompt = \"Create a short story for a picture book for 4th grader about the impact of algae blooms and why its important to be able to monitor and predict there.\"\n",
        "response = chatbot('https://pace.oceansciences.org/docs/earth_observer_jul_aug_2015.pdf', prompt)\n",
        "print(f\"Chatbot: {response}\")"
      ],
      "metadata": {
        "id": "joxCCS8tWzHX"
      },
      "execution_count": null,
      "outputs": []
    },
    {
      "cell_type": "code",
      "source": [
        "prompts = response.replace(\"?\",\".\").replace(\"!\",\".\").replace(\"\\n\",\"\").replace('\"',\"\").split(\".\")\n",
        "\n",
        "newprompts = []\n",
        "for prompt in prompts:\n",
        "  prompt = prompt.strip()\n",
        "  newprompts.append(prompt)"
      ],
      "metadata": {
        "id": "G7dYd5oidhZe"
      },
      "execution_count": null,
      "outputs": []
    },
    {
      "cell_type": "code",
      "source": [
        "\"\"\"\n",
        "Once upon a time, in a beautiful world filled with sparkling waters and gentle breezes, there lived trillions of little friends called Phytoplankton. These tiny organisms danced gracefully in the deep blue oceans, rivers, and ponds all around our wonderful Planet Earth. They were like the lungs of the ocean, breathing life into our waters and providing us with half of the world's precious oxygen. Isn’t that just fantastic?\n",
        "\n",
        "But, as in every story, change began to whisper in the winds. Phytoplankton started to grow a bit too much, creating what scientists like to call “algae blooms.” These blooms transformed the clear, tranquil waters into a thick, green soup, much like a vibrant painting gone wild. Sadly, this beautiful chaos began to suffocate the marine life, stealing away the oxygen they needed to thrive. Fishermen lost their cherished way of life as the fish vanished, and families became unwell from eating shellfish that had been touched by this change. Oh, dear, it was quite a serious challenge!\n",
        "\n",
        "But don’t you worry, my friends, because up in the heavens, NASA scientists were hard at work. These clever folks, nestled in their labs far from the ocean’s embrace, had a brilliant solution brewing. They had been studying our planet’s shifting climate and were keeping a keen eye on those pesky algae blooms from the stars above using satellites. Imagine that!\n",
        "\n",
        "This remarkable satellite, called PACE—short for Pre-Aerosols, Clouds, and ocean Ecosystems—had the amazing ability to see changes in the colors of the ocean. Just like a magic eye in the sky, it could tell where the blooms were sprouting up, helping the scientists understand where to look next. How wonderful is that?\n",
        "\n",
        "But PACE didn’t stop there! It also watched how the ocean, clouds, and tiny particles in the air, called aerosols, danced together. This precious information helps scientists grasp how these algae blooms affect our weather, climate, and even the air we breathe. Just think of it as a beautiful symphony of nature, playing in harmony.\n",
        "\n",
        "The findings and predictions from PACE were shared with our fishing friends, local leaders, and caring environmentalists. With this knowledge, they took steps to protect our marine life, safeguard human health, and even help preserve the livelihoods of our coastal communities. It’s a beautiful thing when we all come together for a common cause!\n",
        "\n",
        "So, you see, watching and understanding these little algae blooms is just one wonderful example of how computer scientists, oceanographers, and the magic of space technology can join hands to help us live in harmony with our changing planet.\n",
        "\n",
        "In the end, the story of algae blooms isn't just about tiny algae or the vast, majestic oceans. It’s about people, just like you and me, making thoughtful decisions and taking action for the health of our beautiful Earth. And with the help of tools like PACE, we can all be part of this lovely mission to keep our planet thriving.\"\"\""
      ],
      "metadata": {
        "id": "9KKEbflMjMt9"
      },
      "execution_count": null,
      "outputs": []
    },
    {
      "cell_type": "code",
      "source": [
        "count = 0\n",
        "urls=[]\n",
        "for prompt in newprompts:\n",
        "  count +=1\n",
        "  filename = f\"storyimage_{str(count)}.jpg\"\n",
        "  url = generate_image(prompt)\n",
        "  urls.append(url)\n",
        "  urllib.request.urlretrieve(url, filename)\n",
        "\n",
        "\n"
      ],
      "metadata": {
        "id": "YLBfTWYffBTh"
      },
      "execution_count": null,
      "outputs": []
    },
    {
      "cell_type": "code",
      "source": [
        "\n"
      ],
      "metadata": {
        "id": "f-JqKNiGlqEN"
      },
      "execution_count": null,
      "outputs": []
    },
    {
      "cell_type": "code",
      "source": [
        "prompts = [\"A vibrant underwater scene showcasing trillions of tiny Phytoplankton glowing in clear blue waters,\\n representing the lungs of the ocean.\"\n",
        ", \"A picturesque landscape with sparkling waters under a bright sun, depicting various bodies of water such as oceans, rivers, and ponds.\"\n",
        ", \"A stunning transformation scene showing clear waters turning into a thick, green algae bloom, resembling pea soup, with marine life struggling.\"\n",
        ", \"A fisherman looking concerned at his empty net on a fishing boat surrounded by algae blooms, illustrating the impact on livelihoods.\"\n",
        ", \"A worried family at the dinner table, glancing at shellfish, with a backdrop indicating food safety issues due to algae blooms.\"\n",
        ",\"A team of NASA scientists working in a modern lab filled with screens, studying Earth’s changing climate and algae blooms using satellite images.\"\n",
        ",\"An imaginative view of the PACE satellite in space, observing the color changes in the ocean from above.\"\n",
        ", \"A dramatic aerial view of the ocean with vibrant color differences, indicating algae blooms and healthy waters.\"\n",
        ",\"A beautiful landscape showing clouds and aerosols interacting with the ocean, depicting the complex relationship in the atmosphere.\"\n",
        ",\"A group of fishermen gathered around a digital display, learning about algae bloom predictions from scientists.\"\n",
        ",\"A marine biologist gently rescuing a fish from polluted waters, showcasing efforts to protect marine life affected by algae blooms.\"\n",
        ",\"A community meeting at a coastal town discussing the impact of algae blooms, with concerned citizens and local leaders.\"\n",
        ", \"A whimsical illustration of nature as a symphony, with elements of the ocean, clouds, and life coming together harmoniously.\"\n",
        ", \"Curious children learning about algae blooms in a classroom, with charts and pictures of the ocean displayed.\"\n",
        ",\"A close-up view of Phytoplankton under a microscope, showcasing their intricate beauty and structure.\"\n",
        ", \"A split image showing a healthy, vibrant ocean on one side and a polluted ocean with algae blooms on the other.\"\n",
        ", \"A research team on a boat collecting water samples to study algae blooms, surrounded by beautiful ocean scenery.\"\n",
        ",\"A colorful underwater scene depicting a variety of marine life thriving in clear waters, highlighting the importance of healthy ecosystems.\"\n",
        ",\"An awe-inspiring view of Earth from space, focusing on the oceans and the delicate balance of life.\"\n",
        ",\"A scientist exploring climate change impacts in a lab, with maps and data visualizations displayed.\"\n",
        ", \"A digital representation of air quality monitoring, showing the effects of aerosols and algae on human health.\"\n",
        ",\"An interactive learning exhibit about algae blooms at a science museum, with children engaging with displays.\"\n",
        ",\"A group of conservationists planting coral reefs, emphasizing the importance of restoring marine ecosystems.\"\n",
        ", \"A visual representation of how algae blooms affect weather patterns, with clouds and ocean currents illustrated.\"\n",
        ", \"A vibrant, healthy ocean ecosystem, teeming with life, showcasing the balance of marine and terrestrial environments.\"\n",
        ", \"A community gathering where people are pledging to take action for a healthier planet, emphasizing collective responsibility.\"\n",
        ", \"A futuristic depiction of technology being used in marine research, such as drones and underwater robots.\"\n",
        ", \"Children exploring a coastal area, learning about marine life and the effects of pollution on their environment.\"\n",
        ", \"A beautifully illustrated marine ecosystem showing the interdependence of various species, from phytoplankton to larger fish.\"\n",
        ", \"A globe with various regions highlighted, showing the global impact of climate change on oceans and marine life.\"\n",
        ", \"A hopeful scene of people taking action, such as beach clean-ups and conservation efforts, promoting positive change.\"\n",
        ", \"A serene sunset over the ocean, symbolizing hope and a reflection on the importance of caring for our planet.\"]"
      ],
      "metadata": {
        "id": "dq8HQdfpqlpe"
      },
      "execution_count": null,
      "outputs": []
    },
    {
      "cell_type": "code",
      "source": [
        "pipe = StableDiffusionPipeline.from_pretrained(\"CompVis/stable-diffusion-v1-4\", variant=\"fp16\", torch_dtype=torch.float16).to(\"cuda\")\n"
      ],
      "metadata": {
        "id": "hI1ny58_l4dO"
      },
      "execution_count": null,
      "outputs": []
    },
    {
      "cell_type": "code",
      "source": [
        "# Create PDF\n",
        "# Function to add a page with text and image\n",
        "def add_story_page(c, image_path, text, x, y, width, height):\n",
        "    # Insert image\n",
        "    c.drawImage(image_path, x, y, width, height)\n",
        "\n",
        "    # Add text below or above the image\n",
        "    text_y = y - 40 if y > height else y + height + 20\n",
        "    c.setFont(\"Helvetica\", 12)\n",
        "    c.drawString(x, text_y, text)\n",
        "\n",
        "# Create PDF\n",
        "def create_storybook(images, texts, output_filename):\n",
        "    c = canvas.Canvas(output_filename, pagesize=letter)\n",
        "    width, height = letter\n",
        "\n",
        "    # Loop through each image and text to create pages\n",
        "    for image_path, text in zip(images, texts):\n",
        "        img = Image.open(image_path)\n",
        "        img_width, img_height = img.size\n",
        "\n",
        "        # Scale the image to fit within the page\n",
        "        aspect_ratio = img_height / img_width\n",
        "        img_display_width = width - 100\n",
        "        img_display_height = img_display_width * aspect_ratio\n",
        "\n",
        "        # Add page content\n",
        "        add_story_page(c, image_path, text, 50, height - img_display_height - 150, img_display_width, img_display_height)\n",
        "\n",
        "        # Add a new page after each image and text\n",
        "        c.showPage()\n",
        "\n",
        "    # Save PDF\n",
        "    c.save()\n",
        "\n",
        "\n",
        "# Sample usage\n",
        "images = imagejpgs\n",
        "texts = prompts  # Corresponding text for each image\n",
        "create_storybook(images, texts, \"FinalStoryshort.pdf\")\n",
        "\n"
      ],
      "metadata": {
        "id": "lZvu2vjrdW8v"
      },
      "execution_count": null,
      "outputs": []
    },
    {
      "cell_type": "code",
      "source": [
        "images = []\n",
        "imagejpgs = []\n",
        "count=0\n",
        "for prompt in prompts:\n",
        "  count+=1\n",
        "  torch.manual_seed(1024)\n",
        "  image = pipe(prompt, num_inference_steps=16).images[0]\n",
        "  images.append(image)\n",
        "  path = f'image_{str(count)}.jpg'\n",
        "  image.save(f'image_{str(count)}.jpg')\n",
        "  imagejpgs.append(path)\n"
      ],
      "metadata": {
        "id": "MM4OxKC2mEth"
      },
      "execution_count": null,
      "outputs": []
    },
    {
      "cell_type": "code",
      "source": [],
      "metadata": {
        "id": "3gg266nAp_v_"
      },
      "execution_count": null,
      "outputs": []
    },
    {
      "cell_type": "markdown",
      "source": [],
      "metadata": {
        "id": "yrmZaZKiWpXv"
      }
    }
  ]
}